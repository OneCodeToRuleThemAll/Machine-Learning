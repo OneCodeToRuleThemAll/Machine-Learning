{
 "cells": [
  {
   "cell_type": "code",
   "execution_count": 1,
   "id": "71f82191",
   "metadata": {},
   "outputs": [],
   "source": [
    "import numpy as np\n",
    "import math\n",
    "import matplotlib.pyplot as plt\n",
    "import matplotlib.patches as mpatches"
   ]
  },
  {
   "cell_type": "code",
   "execution_count": 2,
   "id": "e8452356",
   "metadata": {},
   "outputs": [],
   "source": [
    "#Initializing values for while loop underneath\n",
    "y=[]\n",
    "x=[]\n",
    "i=0"
   ]
  },
  {
   "cell_type": "code",
   "execution_count": 3,
   "id": "df746748",
   "metadata": {},
   "outputs": [],
   "source": [
    "#Given while loop will not stop looping until we get 100 pairs of y & x\n",
    "while len(y)<100:\n",
    "    i=0\n",
    "    data=np.random.uniform(0,1,(300,2))\n",
    "    #Run generation of data again and again until we either get all Ns=300 or we fill the needed lists.\n",
    "    while i<300 and len(y)<100:\n",
    "        if data[i,0]>data[i,1]**3:\n",
    "            y.append(data[i,0])\n",
    "            x.append(data[i,1])\n",
    "        i+=1\n",
    "        #If we check all 300 entries and we haven't filled the needed lists then we run the generation again\n",
    "        #UNTIL condition is met.(Until our lists are filled)"
   ]
  },
  {
   "cell_type": "code",
   "execution_count": 4,
   "id": "74b8ad46",
   "metadata": {},
   "outputs": [],
   "source": [
    "#Creating our wanted data set\n",
    "z=np.column_stack((y,x))"
   ]
  },
  {
   "cell_type": "code",
   "execution_count": 5,
   "id": "882089b7",
   "metadata": {},
   "outputs": [],
   "source": [
    "#Adding noise to our Y column\n",
    "z[:,0]=z[:,0]+np.random.normal(0,0.1,100)"
   ]
  },
  {
   "cell_type": "code",
   "execution_count": 6,
   "id": "acb80818",
   "metadata": {},
   "outputs": [],
   "source": [
    "#Now that we have our wanted Data set I'm going to assign them the first and second column\n",
    "#to Y and X respectively so its easier on the eyes\n",
    "Y=z[:,0]\n",
    "X=z[:,1]"
   ]
  },
  {
   "cell_type": "markdown",
   "id": "3fce685e",
   "metadata": {},
   "source": [
    "For the optimal MSE for each X we have OptimalMSE=(1+x**3)/2"
   ]
  },
  {
   "cell_type": "code",
   "execution_count": 7,
   "id": "adfc1714",
   "metadata": {},
   "outputs": [],
   "source": [
    "def optimalMSE(xforfunction):\n",
    "    return (1+xforfunction**3)/2"
   ]
  },
  {
   "cell_type": "code",
   "execution_count": 8,
   "id": "f6c8eac3",
   "metadata": {},
   "outputs": [],
   "source": [
    "YfromoptimalMSElist=[]\n",
    "for i in range(0,len(X)):\n",
    "    YfromoptimalMSElist=np.append(YfromoptimalMSElist,optimalMSE(X[i]))"
   ]
  },
  {
   "cell_type": "code",
   "execution_count": 9,
   "id": "afb8c99b",
   "metadata": {},
   "outputs": [
    {
     "data": {
      "text/plain": [
       "(2, 1)"
      ]
     },
     "execution_count": 9,
     "metadata": {},
     "output_type": "execute_result"
    }
   ],
   "source": [
    "Xbar=np.mean(z[:,1])\n",
    "Ybar=np.mean(z[:,0])\n",
    "mean=np.row_stack((Ybar,Xbar))\n",
    "mean.shape"
   ]
  },
  {
   "cell_type": "code",
   "execution_count": 10,
   "id": "e37d679f",
   "metadata": {},
   "outputs": [
    {
     "name": "stdout",
     "output_type": "stream",
     "text": [
      "[[0.08278832 0.01836239]\n",
      " [0.01836239 0.06253842]]\n"
     ]
    }
   ],
   "source": [
    "SigmaSum=0\n",
    "i=0\n",
    "#Finding Σ matrix\n",
    "for i in range(0,100):\n",
    "    SigmaSum=SigmaSum+np.dot((mean.T-z[i]).T,(mean.T-z[i]))\n",
    "Sigma=SigmaSum/100\n",
    "print(Sigma)"
   ]
  },
  {
   "cell_type": "code",
   "execution_count": 11,
   "id": "7bfa8696",
   "metadata": {},
   "outputs": [],
   "source": [
    "# Derive the optimum MSE estimate for this case and compute the MSE estimate for each one of the 100 𝑥𝑛 ‘s.  \n",
    "a=Sigma[0][1]/(math.sqrt(Sigma[0][0])*math.sqrt(Sigma[1][1]))\n",
    "aforfunction=a*math.sqrt(Sigma[0][0])/math.sqrt(Sigma[1][1])"
   ]
  },
  {
   "cell_type": "code",
   "execution_count": 12,
   "id": "ab3b923c",
   "metadata": {},
   "outputs": [],
   "source": [
    "#creating new Optimal MSE Function given the dataset come from normal distribution\n",
    "def NormalDistributionOptimal(xforfunction):\n",
    "    return mean[0]+aforfunction*(xforfunction-mean[1])"
   ]
  },
  {
   "cell_type": "code",
   "execution_count": 13,
   "id": "eb930f5a",
   "metadata": {},
   "outputs": [],
   "source": [
    "#Getting the new OptimalMSEList\n",
    "optimalMSElistNew=[]\n",
    "for i in range(0,100):\n",
    "    optimalMSElistNew=np.append(optimalMSElistNew,NormalDistributionOptimal(X[i]))"
   ]
  },
  {
   "cell_type": "code",
   "execution_count": 14,
   "id": "c92ea950",
   "metadata": {},
   "outputs": [
    {
     "data": {
      "image/png": "[encoded data removed]",
      "text/plain": [
       "<Figure size 648x504 with 1 Axes>"
      ]
     },
     "metadata": {
      "needs_background": "light"
     },
     "output_type": "display_data"
    }
   ],
   "source": [
    "#Plotting the two Functions/OptimalEstimators\n",
    "plt.figure(figsize=(9,7))\n",
    "plt.scatter(X,Y)\n",
    "plt.scatter(X,NormalDistributionOptimal(X),color=\"orange\")\n",
    "plt.scatter(X,optimalMSE(X),color=\"r\")\n",
    "Normal_Opt_Est=mpatches.Patch(color=\"red\",label=\"Optimal Estimator for Normal\")\n",
    "Optimal_Est=mpatches.Patch(color=\"orange\",label=\"Optimal Estimator\")\n",
    "plt.legend(handles=[Normal_Opt_Est,Optimal_Est],prop={\"size\":13})\n",
    "plt.show()"
   ]
  },
  {
   "cell_type": "markdown",
   "id": "315b1f9c",
   "metadata": {},
   "source": [
    "The above graph shows the plots of the two estimators and we see that the optimal estimator for the normal distribution is graphed by a quadratic function and that the other optimal estimator is linear(As expected from the formula).We see that the quadratic function slowly gains ground when it comes to getting closer to the true model's values.Our Optimal Estimator for Normal came from the hypothesis that the datapoints were generated from a normal distribution but they were in fact not generated by such a distribution and it doesn't depict the true model's values as much as the general optimal estimator does."
   ]
  }
 ],
 "metadata": {
  "kernelspec": {
   "display_name": "Python 3 (ipykernel)",
   "language": "python",
   "name": "python3"
  },
  "language_info": {
   "codemirror_mode": {
    "name": "ipython",
    "version": 3
   },
   "file_extension": ".py",
   "mimetype": "text/x-python",
   "name": "python",
   "nbconvert_exporter": "python",
   "pygments_lexer": "ipython3",
   "version": "3.8.8"
  }
 },
 "nbformat": 4,
 "nbformat_minor": 5
}
