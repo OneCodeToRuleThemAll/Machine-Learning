{
 "cells": [
  {
   "cell_type": "code",
   "execution_count": 1,
   "id": "a991e340",
   "metadata": {},
   "outputs": [],
   "source": [
    "import numpy as np\n",
    "import math\n",
    "import matplotlib.pyplot as plt"
   ]
  },
  {
   "cell_type": "code",
   "execution_count": 2,
   "id": "0d225856",
   "metadata": {},
   "outputs": [],
   "source": [
    "mean=[1,1]\n",
    "cov=[[4,3],[3,5]]"
   ]
  },
  {
   "cell_type": "code",
   "execution_count": 3,
   "id": "0f310a84",
   "metadata": {},
   "outputs": [],
   "source": [
    "#Generating a single data set 𝐷 of 100 pairs (𝑦𝑛,𝑥𝑛), 𝑛=1,...,100 from 𝑝(𝑦,𝑥). \n",
    "x1=np.random.multivariate_normal(mean,cov,100)\n",
    "X=np.column_stack((np.ones(100),x1[:,1]))\n",
    "Y=x1[:,0]+np.random.normal(0,1,100)"
   ]
  },
  {
   "cell_type": "code",
   "execution_count": 4,
   "id": "b3ef4294",
   "metadata": {},
   "outputs": [],
   "source": [
    "Y=np.array(Y)"
   ]
  },
  {
   "cell_type": "code",
   "execution_count": 5,
   "id": "2f1cb838",
   "metadata": {},
   "outputs": [
    {
     "data": {
      "text/plain": [
       "array([0.64563024, 0.49789077])"
      ]
     },
     "execution_count": 5,
     "metadata": {},
     "output_type": "execute_result"
    }
   ],
   "source": [
    "#Determine the  linear  estimate 𝑓(𝑥;𝐷) that  minimizes  the  MSE  criterion,  based  on D.\n",
    "theta=np.dot(np.linalg.inv(np.dot(X.T,X)),np.dot(X.T,Y))\n",
    "#Defining function\n",
    "def f(xforfunction):\n",
    "    return theta[0]+theta[1]*xforfunction\n",
    "theta"
   ]
  },
  {
   "cell_type": "code",
   "execution_count": 6,
   "id": "c69c458b",
   "metadata": {},
   "outputs": [],
   "source": [
    "#Generating randomly a set 𝐷’ of additional 50 \n",
    "x2=np.random.multivariate_normal(mean,cov,50)\n",
    "X2=np.column_stack((np.ones(50),x2[:,1]))\n",
    "Y2=x2[:,0]+np.random.normal(0,1,50)"
   ]
  },
  {
   "cell_type": "code",
   "execution_count": 7,
   "id": "69d40063",
   "metadata": {},
   "outputs": [],
   "source": [
    "Y2=np.array(Y2)"
   ]
  },
  {
   "cell_type": "code",
   "execution_count": 8,
   "id": "5de07cd1",
   "metadata": {
    "scrolled": true
   },
   "outputs": [
    {
     "data": {
      "text/plain": [
       "array([0.21988329, 0.69591404])"
      ]
     },
     "execution_count": 8,
     "metadata": {},
     "output_type": "execute_result"
    }
   ],
   "source": [
    "# For \n",
    "# each 𝑥′𝑛 determine  the  estimate 𝑦′𝑛 = 𝑓(𝑥𝑛;𝐷’) (50 numbers  (estimates)  should \n",
    "# be finally computed). \n",
    "theta2=np.dot(np.linalg.inv(np.dot(X2.T,X2)),np.dot(X2.T,Y2))\n",
    "#Defining second function\n",
    "def f2(xforfunction):\n",
    "    return theta2[0]+theta2[1]*xforfunction\n",
    "theta2"
   ]
  },
  {
   "cell_type": "code",
   "execution_count": 9,
   "id": "6da27255",
   "metadata": {},
   "outputs": [],
   "source": [
    "#For each 𝑥′𝑛 determine  the  estimate 𝑦′𝑛 = 𝑓(𝑥𝑛;𝐷’) (50 numbers  (estimates)  should be finally computed). \n",
    "Y2estimated=[]\n",
    "for i in range(0,50):\n",
    "    Y2estimated=np.append(Y2estimated,f2(x2[i,1]))"
   ]
  },
  {
   "cell_type": "code",
   "execution_count": 10,
   "id": "c6b8e180",
   "metadata": {},
   "outputs": [],
   "source": [
    "ybar=np.mean(Y2estimated)\n",
    "xbar=np.mean(x2[:,1])"
   ]
  },
  {
   "cell_type": "code",
   "execution_count": 11,
   "id": "e7e04beb",
   "metadata": {},
   "outputs": [],
   "source": [
    "a=cov[0][1]/(math.sqrt(cov[0][0])*math.sqrt(cov[1][1]))\n",
    "a1=a*math.sqrt(cov[0][0])/math.sqrt(cov[1][1])\n",
    "def optimalMSEestimator(xforfunction):\n",
    "    return ybar+a1*(xforfunction-xbar)"
   ]
  },
  {
   "cell_type": "code",
   "execution_count": 12,
   "id": "798ad1f6",
   "metadata": {},
   "outputs": [
    {
     "data": {
      "text/plain": [
       "0.04941874788497176"
      ]
     },
     "execution_count": 12,
     "metadata": {},
     "output_type": "execute_result"
    }
   ],
   "source": [
    "#Use  a  (practical)  way  for  quantifying  the  performance  of  the two estimators 𝑓(𝑥𝑛;𝐷’) and 𝐸[𝑦|𝒙].\n",
    "#We are going to calculate the MSE between the two functions to quantiyfy the performance of the two estimators\n",
    "MSDSum=0\n",
    "for i in range(0,50):\n",
    "    MSDSum=MSDSum+(f2(x2[i,1])-optimalMSEestimator(x2[i,1]))**2\n",
    "MSD=MSDSum/50\n",
    "MSD"
   ]
  },
  {
   "cell_type": "markdown",
   "id": "867cb964",
   "metadata": {},
   "source": [
    "We see that the MSD is small in value and that means that both f2 and the optimalMSEestimator are producing more or less the same values for the given dataset.Given that the optimalMSEestimator is the best estimator that means both \n",
    "\n",
    "the estimators(f2,Optimal) are capable to depict values close to the true model's values!"
   ]
  },
  {
   "cell_type": "code",
   "execution_count": null,
   "id": "bb515cc8",
   "metadata": {},
   "outputs": [],
   "source": []
  }
 ],
 "metadata": {
  "kernelspec": {
   "display_name": "Python 3 (ipykernel)",
   "language": "python",
   "name": "python3"
  },
  "language_info": {
   "codemirror_mode": {
    "name": "ipython",
    "version": 3
   },
   "file_extension": ".py",
   "mimetype": "text/x-python",
   "name": "python",
   "nbconvert_exporter": "python",
   "pygments_lexer": "ipython3",
   "version": "3.8.8"
  }
 },
 "nbformat": 4,
 "nbformat_minor": 5
}
