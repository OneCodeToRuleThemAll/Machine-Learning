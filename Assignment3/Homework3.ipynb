{
 "cells": [
  {
   "cell_type": "code",
   "execution_count": 1,
   "id": "37ad1870",
   "metadata": {},
   "outputs": [],
   "source": [
    "import pandas as pd\n",
    "import numpy as np\n",
    "import matplotlib.pyplot as plt"
   ]
  },
  {
   "cell_type": "code",
   "execution_count": 2,
   "id": "7031f8a0",
   "metadata": {},
   "outputs": [],
   "source": [
    "thetastart=[2]\n",
    "df=pd.DataFrame()"
   ]
  },
  {
   "cell_type": "code",
   "execution_count": 3,
   "id": "a5aceda5",
   "metadata": {},
   "outputs": [],
   "source": [
    "for i in range (1,100,2):\n",
    "    x=np.random.uniform(0,10,30)\n",
    "    y1=thetastart[0]*x\n",
    "    noise=np.random.normal(0,8,30)\n",
    "    y2=y1[:]+noise[:]\n",
    "    df[i]=y2.tolist()\n",
    "    df[i+1]=x.tolist()\n",
    "    i+=2"
   ]
  },
  {
   "cell_type": "code",
   "execution_count": 4,
   "id": "105d58c9",
   "metadata": {},
   "outputs": [],
   "source": [
    "i+=1\n",
    "indexforx=2\n",
    "indexfory=1\n",
    "dfnew=df.copy()\n",
    "thetalist=[]"
   ]
  },
  {
   "cell_type": "code",
   "execution_count": 5,
   "id": "cc902a1b",
   "metadata": {},
   "outputs": [],
   "source": [
    "for i in range (0,50):\n",
    "    X=dfnew[indexforx]\n",
    "    Y=dfnew[indexfory]\n",
    "    Y=Y.values.reshape((30,1))\n",
    "    X=X.values.reshape((30,1))\n",
    "    trx=np.transpose(X)\n",
    "    theta=np.dot(np.linalg.inv(np.dot(trx,X)),np.dot(trx,Y))\n",
    "    thetalist=np.append(thetalist,theta)\n",
    "    i+=1\n",
    "    indexforx+=2\n",
    "    indexfory+=2"
   ]
  },
  {
   "cell_type": "code",
   "execution_count": 6,
   "id": "4a5b405f",
   "metadata": {},
   "outputs": [
    {
     "data": {
      "text/plain": [
       "0.0560906708713479"
      ]
     },
     "execution_count": 6,
     "metadata": {},
     "output_type": "execute_result"
    }
   ],
   "source": [
    "SumOfSquares=0\n",
    "for i in range(0,50):\n",
    "    SumOfSquares=SumOfSquares+(thetalist[i]-thetastart[0])**2\n",
    "        \n",
    "MSE=1/50*SumOfSquares\n",
    "MSE"
   ]
  },
  {
   "cell_type": "code",
   "execution_count": 7,
   "id": "bcb37b3f",
   "metadata": {},
   "outputs": [
    {
     "data": {
      "text/plain": [
       "<matplotlib.collections.PathCollection at 0x19ee1a451f0>"
      ]
     },
     "execution_count": 7,
     "metadata": {},
     "output_type": "execute_result"
    },
    {
     "data": {
      "image/png": "[encoded data removed]",
      "text/plain": [
       "<Figure size 432x288 with 1 Axes>"
      ]
     },
     "metadata": {
      "needs_background": "light"
     },
     "output_type": "display_data"
    }
   ],
   "source": [
    "plt.axhline(y=2, color='r', linestyle='-')\n",
    "plt.scatter(np.linspace(2,2,50),thetalist,alpha=0.3)"
   ]
  },
  {
   "cell_type": "markdown",
   "id": "0724b8ef",
   "metadata": {},
   "source": [
    "We see that MSE is low(Close to 0) and that means that our Theta estimates are on average close to the real model's theta parameter and can provide more or less acurrate to the model's true results."
   ]
  },
  {
   "cell_type": "code",
   "execution_count": null,
   "id": "c97e1d79",
   "metadata": {},
   "outputs": [],
   "source": []
  }
 ],
 "metadata": {
  "kernelspec": {
   "display_name": "Python 3 (ipykernel)",
   "language": "python",
   "name": "python3"
  },
  "language_info": {
   "codemirror_mode": {
    "name": "ipython",
    "version": 3
   },
   "file_extension": ".py",
   "mimetype": "text/x-python",
   "name": "python",
   "nbconvert_exporter": "python",
   "pygments_lexer": "ipython3",
   "version": "3.8.8"
  }
 },
 "nbformat": 4,
 "nbformat_minor": 5
}
