{
 "cells": [
  {
   "cell_type": "code",
   "execution_count": 1,
   "id": "e39b8f06",
   "metadata": {},
   "outputs": [],
   "source": [
    "import numpy as np\n",
    "from mpl_toolkits.mplot3d import Axes3D\n",
    "import matplotlib.pyplot as plt\n",
    "import pandas as pd\n",
    "\n",
    "# Generate data\n",
    "mean = 0\n",
    "sigma = 8\n",
    "N = 30\n",
    "theta = 2"
   ]
  },
  {
   "cell_type": "code",
   "execution_count": 2,
   "id": "2e27c8e5",
   "metadata": {},
   "outputs": [],
   "source": [
    "#Define the the model\n",
    "def f(x,theta):\n",
    "    return theta*x\n",
    "X = []\n",
    "Y = []\n",
    "for i in range(0, 50):\n",
    "    x = np.random.normal(mean, sigma, N)\n",
    "    y = f(x,theta)\n",
    "    y = y + np.random.normal(0,np.sqrt(64),len(x))\n",
    "    X.append(x)\n",
    "    Y.append(y)\n",
    "X = np.array(X).T\n",
    "Y = np.array(Y).T"
   ]
  },
  {
   "cell_type": "code",
   "execution_count": 3,
   "id": "b59d5ff9",
   "metadata": {},
   "outputs": [],
   "source": [
    "lamdalist=[]\n",
    "for  i in np.arange(0,10000.1,0.1):\n",
    "    lamdalist.append(i)"
   ]
  },
  {
   "cell_type": "code",
   "execution_count": 4,
   "id": "4920ad03",
   "metadata": {},
   "outputs": [],
   "source": [
    "arr_ones = np.ones((len(X)))\n",
    "X_new = np.column_stack((arr_ones,X[:,1].T))\n",
    "MSEList=[]\n",
    "#In the next cell,any variable with LS in front of its name is for the LS regression and other variables\n",
    "#refer to Ridge's Regression method."
   ]
  },
  {
   "cell_type": "code",
   "execution_count": 5,
   "id": "fb89d6a4",
   "metadata": {
    "scrolled": false
   },
   "outputs": [],
   "source": [
    "for i in lamdalist:\n",
    "    LSTheta_est0=[]\n",
    "    LSTheta_est=[]\n",
    "    LSSumOfSquares=0\n",
    "    Theta_est0=[]\n",
    "    Theta_est=[]\n",
    "    SumOfSquares=0\n",
    "    lamb_I=i*np.eye(np.dot(X_new.T,X_new).shape[0])\n",
    "    for n in range(0, 50):  \n",
    "        #for Ridge Regression\n",
    "        X_new = np.column_stack((arr_ones,X[:,n].T))\n",
    "        XTXinvlamdaI = np.linalg.inv(np.dot(X_new.T,X_new)+lamb_I)\n",
    "        theta_est = np.dot(XTXinvlamdaI,X_new.T)\n",
    "        theta_est = np.dot(theta_est,Y[:,n])\n",
    "        Theta_est.append(theta_est)\n",
    "        Theta_est0.append(Theta_est[n][1])  \n",
    "        #for LS theta\n",
    "        XTXinv = np.linalg.inv(np.dot(X_new.T,X_new));\n",
    "        LStheta_est = np.dot(XTXinv,X_new.T)\n",
    "        LStheta_est = np.dot(LStheta_est,Y[:,n])\n",
    "        LSTheta_est.append(LStheta_est)\n",
    "        LSTheta_est0.append(LSTheta_est[n][1])\n",
    "    for n in range(1,50):\n",
    "        SumOfSquares=SumOfSquares+(Theta_est0[n]-theta)**2\n",
    "        LSSumOfSquares=LSSumOfSquares+(LSTheta_est0[n]-theta)**2\n",
    "    MSE=1/50*SumOfSquares\n",
    "    MSEList.append(MSE)\n",
    "LSMSE=1/50*LSSumOfSquares"
   ]
  },
  {
   "cell_type": "code",
   "execution_count": 6,
   "id": "c68b24c2",
   "metadata": {},
   "outputs": [
    {
     "data": {
      "text/plain": [
       "0.039624544752189614"
      ]
     },
     "execution_count": 6,
     "metadata": {},
     "output_type": "execute_result"
    }
   ],
   "source": [
    "LSMSE"
   ]
  },
  {
   "cell_type": "code",
   "execution_count": 7,
   "id": "7ebb822a",
   "metadata": {},
   "outputs": [
    {
     "data": {
      "text/plain": [
       "[<matplotlib.lines.Line2D at 0x21b6f791dc0>]"
      ]
     },
     "execution_count": 7,
     "metadata": {},
     "output_type": "execute_result"
    },
    {
     "data": {
      "image/png": "[encoded data removed]",
      "text/plain": [
       "<Figure size 432x288 with 1 Axes>"
      ]
     },
     "metadata": {
      "needs_background": "light"
     },
     "output_type": "display_data"
    }
   ],
   "source": [
    "plt.plot(lamdalist,MSEList)\n",
    "plt.ylabel(\"MSE\")\n",
    "plt.xlabel(\"Lamda\")\n",
    "plt.plot(np.arange(0,10000),LSMSE*np.ones(10000))"
   ]
  },
  {
   "cell_type": "code",
   "execution_count": 8,
   "id": "98e2f428",
   "metadata": {},
   "outputs": [
    {
     "name": "stdout",
     "output_type": "stream",
     "text": [
      "537\n",
      "New MSE is lower than old MSE for Lamda in the range of 0.0 to 53.6\n"
     ]
    }
   ],
   "source": [
    "#Find the breakpoint to get the range of L's that produce RR's MSE<LS MSE\n",
    "for i in range(0,10000):\n",
    "    if LSMSE<MSEList[i]:\n",
    "        print(i)\n",
    "        breakpoint=i-1\n",
    "        break\n",
    "print (\"New MSE is lower than old MSE for Lamda in the range of\",lamdalist[0],\"to\",round(lamdalist[breakpoint],5))"
   ]
  },
  {
   "cell_type": "markdown",
   "id": "ec84301a",
   "metadata": {},
   "source": [
    "We see that by using the Ridge Regression(RR) to estimate our thetas for Lamda=0 we get the same result as the LS(As expected) and for a range of Ls our RR MSE is lower than that of the LS method.That means that by using these Ls to create a model,our estimated Thetas explain the true model better than the Thetas of the LS method."
   ]
  }
 ],
 "metadata": {
  "kernelspec": {
   "display_name": "Python 3 (ipykernel)",
   "language": "python",
   "name": "python3"
  },
  "language_info": {
   "codemirror_mode": {
    "name": "ipython",
    "version": 3
   },
   "file_extension": ".py",
   "mimetype": "text/x-python",
   "name": "python",
   "nbconvert_exporter": "python",
   "pygments_lexer": "ipython3",
   "version": "3.8.8"
  }
 },
 "nbformat": 4,
 "nbformat_minor": 5
}
